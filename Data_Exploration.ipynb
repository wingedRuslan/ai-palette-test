{
 "cells": [
  {
   "cell_type": "code",
   "execution_count": 11,
   "id": "august-kernel",
   "metadata": {},
   "outputs": [],
   "source": [
    "import pandas as pd\n",
    "import numpy as np\n",
    "\n",
    "\n",
    "from langdetect import detect"
   ]
  },
  {
   "cell_type": "code",
   "execution_count": 12,
   "id": "premier-asthma",
   "metadata": {},
   "outputs": [],
   "source": [
    "# read training dataset\n",
    "dataset_df = pd.read_csv('training_data.csv', names=['Text', 'Rating'], sep=';')"
   ]
  },
  {
   "cell_type": "code",
   "execution_count": 13,
   "id": "geological-leisure",
   "metadata": {},
   "outputs": [
    {
     "data": {
      "text/plain": [
       "(40000, 2)"
      ]
     },
     "execution_count": 13,
     "metadata": {},
     "output_type": "execute_result"
    }
   ],
   "source": [
    "# check the shape of the dataset\n",
    "dataset_df.shape"
   ]
  },
  {
   "cell_type": "code",
   "execution_count": 14,
   "id": "ignored-breast",
   "metadata": {},
   "outputs": [
    {
     "data": {
      "text/html": [
       "<div>\n",
       "<style scoped>\n",
       "    .dataframe tbody tr th:only-of-type {\n",
       "        vertical-align: middle;\n",
       "    }\n",
       "\n",
       "    .dataframe tbody tr th {\n",
       "        vertical-align: top;\n",
       "    }\n",
       "\n",
       "    .dataframe thead th {\n",
       "        text-align: right;\n",
       "    }\n",
       "</style>\n",
       "<table border=\"1\" class=\"dataframe\">\n",
       "  <thead>\n",
       "    <tr style=\"text-align: right;\">\n",
       "      <th></th>\n",
       "      <th>Text</th>\n",
       "      <th>Rating</th>\n",
       "    </tr>\n",
       "  </thead>\n",
       "  <tbody>\n",
       "    <tr>\n",
       "      <th>0</th>\n",
       "      <td>ร้านอาหารใหญ่มากกกกกกก \\nเลี้ยวเข้ามาเจอห้องน้...</td>\n",
       "      <td>3</td>\n",
       "    </tr>\n",
       "    <tr>\n",
       "      <th>1</th>\n",
       "      <td>อาหารที่นี่เป็นอาหารจีนแคะที่หากินยากในบ้านเรา...</td>\n",
       "      <td>4</td>\n",
       "    </tr>\n",
       "    <tr>\n",
       "      <th>2</th>\n",
       "      <td>ปอเปี๊ยะสด ทุกวันนี้รู้สึกว่าหากินยาก (ร้านที่...</td>\n",
       "      <td>3</td>\n",
       "    </tr>\n",
       "    <tr>\n",
       "      <th>3</th>\n",
       "      <td>รัานคัพเค้กในเมืองไทยมีไม่มาก หลายๆคนอาจจะสงสั...</td>\n",
       "      <td>5</td>\n",
       "    </tr>\n",
       "    <tr>\n",
       "      <th>4</th>\n",
       "      <td>อร่อย!!! เดินผ่านDigital gatewayทุกวัน ไม่ยักร...</td>\n",
       "      <td>5</td>\n",
       "    </tr>\n",
       "    <tr>\n",
       "      <th>5</th>\n",
       "      <td>ร้านข้าวต้มกระดูกหมู ปากซอยพัฒนาการ 57 เป็นอีก...</td>\n",
       "      <td>4</td>\n",
       "    </tr>\n",
       "    <tr>\n",
       "      <th>6</th>\n",
       "      <td>วันนี้ได้มีโอกาสไปนั่งซดกาแฟที่ร้านวาวี แถวๆอา...</td>\n",
       "      <td>4</td>\n",
       "    </tr>\n",
       "    <tr>\n",
       "      <th>7</th>\n",
       "      <td>สารภาพว่าไม่เคยคิดจะไปต่อคิวซื้อมากินเองครับ บ...</td>\n",
       "      <td>3</td>\n",
       "    </tr>\n",
       "    <tr>\n",
       "      <th>8</th>\n",
       "      <td>เมื่อวันก่อนไปเดินเล่น แบบชิวๆๆ ที่สยามสแควร์แ...</td>\n",
       "      <td>5</td>\n",
       "    </tr>\n",
       "    <tr>\n",
       "      <th>9</th>\n",
       "      <td>วันก่อนไปเดินสยาม หลังจากห่างหายไป ประมาณ 6 เด...</td>\n",
       "      <td>5</td>\n",
       "    </tr>\n",
       "  </tbody>\n",
       "</table>\n",
       "</div>"
      ],
      "text/plain": [
       "                                                Text  Rating\n",
       "0  ร้านอาหารใหญ่มากกกกกกก \\nเลี้ยวเข้ามาเจอห้องน้...       3\n",
       "1  อาหารที่นี่เป็นอาหารจีนแคะที่หากินยากในบ้านเรา...       4\n",
       "2  ปอเปี๊ยะสด ทุกวันนี้รู้สึกว่าหากินยาก (ร้านที่...       3\n",
       "3  รัานคัพเค้กในเมืองไทยมีไม่มาก หลายๆคนอาจจะสงสั...       5\n",
       "4  อร่อย!!! เดินผ่านDigital gatewayทุกวัน ไม่ยักร...       5\n",
       "5  ร้านข้าวต้มกระดูกหมู ปากซอยพัฒนาการ 57 เป็นอีก...       4\n",
       "6  วันนี้ได้มีโอกาสไปนั่งซดกาแฟที่ร้านวาวี แถวๆอา...       4\n",
       "7  สารภาพว่าไม่เคยคิดจะไปต่อคิวซื้อมากินเองครับ บ...       3\n",
       "8  เมื่อวันก่อนไปเดินเล่น แบบชิวๆๆ ที่สยามสแควร์แ...       5\n",
       "9  วันก่อนไปเดินสยาม หลังจากห่างหายไป ประมาณ 6 เด...       5"
      ]
     },
     "execution_count": 14,
     "metadata": {},
     "output_type": "execute_result"
    }
   ],
   "source": [
    "# show 10 data samples\n",
    "dataset_df.head(10)"
   ]
  },
  {
   "cell_type": "markdown",
   "id": "bronze-observer",
   "metadata": {},
   "source": [
    "## Exploratory analysis and Dataset Preparation"
   ]
  },
  {
   "cell_type": "code",
   "execution_count": 15,
   "id": "working-interface",
   "metadata": {},
   "outputs": [
    {
     "data": {
      "text/plain": [
       "Text      39993\n",
       "Rating        5\n",
       "dtype: int64"
      ]
     },
     "execution_count": 15,
     "metadata": {},
     "output_type": "execute_result"
    }
   ],
   "source": [
    "# Count distinct observations row-wise\n",
    "dataset_df.nunique(axis=0)"
   ]
  },
  {
   "cell_type": "code",
   "execution_count": 16,
   "id": "infectious-clarity",
   "metadata": {},
   "outputs": [
    {
     "data": {
      "text/html": [
       "<div>\n",
       "<style scoped>\n",
       "    .dataframe tbody tr th:only-of-type {\n",
       "        vertical-align: middle;\n",
       "    }\n",
       "\n",
       "    .dataframe tbody tr th {\n",
       "        vertical-align: top;\n",
       "    }\n",
       "\n",
       "    .dataframe thead th {\n",
       "        text-align: right;\n",
       "    }\n",
       "</style>\n",
       "<table border=\"1\" class=\"dataframe\">\n",
       "  <thead>\n",
       "    <tr style=\"text-align: right;\">\n",
       "      <th></th>\n",
       "      <th>Text</th>\n",
       "      <th>Rating</th>\n",
       "    </tr>\n",
       "  </thead>\n",
       "  <tbody>\n",
       "    <tr>\n",
       "      <th>9976</th>\n",
       "      <td>ร้านประจักษ์เป็ดย่าง เป็นร้านเป็ดย่างเปิดมานาน...</td>\n",
       "      <td>5</td>\n",
       "    </tr>\n",
       "    <tr>\n",
       "      <th>14129</th>\n",
       "      <td>ขนมที่เป็นสูตรเฉพาะของของทางร้าน ใส่ใจในเรื่อง...</td>\n",
       "      <td>5</td>\n",
       "    </tr>\n",
       "    <tr>\n",
       "      <th>14825</th>\n",
       "      <td>\\nส่งท้ายเดือนแห่งความรัก ด้วยโปรโมชั่นเอาใจคน...</td>\n",
       "      <td>5</td>\n",
       "    </tr>\n",
       "    <tr>\n",
       "      <th>21038</th>\n",
       "      <td>ร้านอันดับหนึ่งในดวงใจของใครหลายๆคนรวมถึงตัวเร...</td>\n",
       "      <td>5</td>\n",
       "    </tr>\n",
       "    <tr>\n",
       "      <th>21040</th>\n",
       "      <td>ร้านอันดับหนึ่งในดวงใจของใครหลายๆคนรวมถึงตัวเร...</td>\n",
       "      <td>5</td>\n",
       "    </tr>\n",
       "    <tr>\n",
       "      <th>21048</th>\n",
       "      <td>สาขานี้พนักงานน่ารัก บริการดี ชอบโอโตยะตรงที่ม...</td>\n",
       "      <td>4</td>\n",
       "    </tr>\n",
       "    <tr>\n",
       "      <th>21049</th>\n",
       "      <td>สาขานี้พนักงานน่ารัก บริการดี ชอบโอโตยะตรงที่ม...</td>\n",
       "      <td>4</td>\n",
       "    </tr>\n",
       "  </tbody>\n",
       "</table>\n",
       "</div>"
      ],
      "text/plain": [
       "                                                    Text  Rating\n",
       "9976   ร้านประจักษ์เป็ดย่าง เป็นร้านเป็ดย่างเปิดมานาน...       5\n",
       "14129  ขนมที่เป็นสูตรเฉพาะของของทางร้าน ใส่ใจในเรื่อง...       5\n",
       "14825  \\nส่งท้ายเดือนแห่งความรัก ด้วยโปรโมชั่นเอาใจคน...       5\n",
       "21038  ร้านอันดับหนึ่งในดวงใจของใครหลายๆคนรวมถึงตัวเร...       5\n",
       "21040  ร้านอันดับหนึ่งในดวงใจของใครหลายๆคนรวมถึงตัวเร...       5\n",
       "21048  สาขานี้พนักงานน่ารัก บริการดี ชอบโอโตยะตรงที่ม...       4\n",
       "21049  สาขานี้พนักงานน่ารัก บริการดี ชอบโอโตยะตรงที่ม...       4"
      ]
     },
     "execution_count": 16,
     "metadata": {},
     "output_type": "execute_result"
    }
   ],
   "source": [
    "# Show rows that are duplicates (Mark duplicates as True except for the first occurrence.)\n",
    "dataset_df[dataset_df.duplicated()]"
   ]
  },
  {
   "cell_type": "code",
   "execution_count": 17,
   "id": "proper-greece",
   "metadata": {},
   "outputs": [
    {
     "data": {
      "text/plain": [
       "(39993, 2)"
      ]
     },
     "execution_count": 17,
     "metadata": {},
     "output_type": "execute_result"
    }
   ],
   "source": [
    "# Removes duplicate rows based on all columns)\n",
    "dataset_df = dataset_df.drop_duplicates(ignore_index=True)\n",
    "\n",
    "dataset_df.shape"
   ]
  },
  {
   "cell_type": "code",
   "execution_count": 18,
   "id": "rolled-stockholm",
   "metadata": {},
   "outputs": [],
   "source": [
    "# Drop rows with any column having NA/null data.\n",
    "dataset_df = dataset_df.dropna()"
   ]
  },
  {
   "cell_type": "code",
   "execution_count": 19,
   "id": "electoral-checklist",
   "metadata": {},
   "outputs": [
    {
     "data": {
      "text/plain": [
       "(39993, 2)"
      ]
     },
     "execution_count": 19,
     "metadata": {},
     "output_type": "execute_result"
    }
   ],
   "source": [
    "dataset_df.shape"
   ]
  },
  {
   "cell_type": "code",
   "execution_count": 20,
   "id": "rolled-mills",
   "metadata": {},
   "outputs": [
    {
     "data": {
      "text/plain": [
       "1      415\n",
       "2     1845\n",
       "3    12171\n",
       "4    18768\n",
       "5     6794\n",
       "Name: Rating, dtype: int64"
      ]
     },
     "execution_count": 20,
     "metadata": {},
     "output_type": "execute_result"
    }
   ],
   "source": [
    "# check for class imbalance\n",
    "dataset_df['Rating'].value_counts(sort=False)"
   ]
  },
  {
   "cell_type": "markdown",
   "id": "favorite-frame",
   "metadata": {},
   "source": [
    "Observation: Class 1 and class 2  are underrepresented. Suggested solution to mitigate this issue is to oversample the underrepresented classes."
   ]
  },
  {
   "cell_type": "markdown",
   "id": "noted-ethernet",
   "metadata": {},
   "source": [
    "### Check the language in reviews    \n",
    "\n",
    "**Training Dataset.** language and corresponding number of reviews in this language  \n",
    "{'th': 39723, 'en': 268, 'vi': 1, 'ja': 1}   \n",
    "\n",
    "**Test Dataset**  \n",
    "{'th': 6163, 'en': 39, 'ja': 1}    \n",
    "\n",
    "\n",
    "Save reviews in thai and english separately   "
   ]
  },
  {
   "cell_type": "code",
   "execution_count": 21,
   "id": "round-image",
   "metadata": {},
   "outputs": [
    {
     "name": "stdout",
     "output_type": "stream",
     "text": [
      "Language and number of reviews in the language: \n",
      "{'th': 39723, 'en': 268, 'vi': 1, 'ja': 1}\n"
     ]
    }
   ],
   "source": [
    "all_reviews = np.array(dataset_df['Text'])\n",
    "\n",
    "# save language and corresponding number of reviews in this language in a dictionary\n",
    "lang_count = dict()\n",
    "\n",
    "for review in all_reviews:\n",
    "    # get the language of the current review\n",
    "    lang_review = detect(review)\n",
    "    \n",
    "    # save to the dictionary counts\n",
    "    if lang_review in lang_count: lang_count[lang_review] += 1\n",
    "    else: lang_count[lang_review] = 1\n",
    "        \n",
    "# Note: language detection for almost 40k samples takes time!\n",
    "print('Language and number of reviews in the language: ')\n",
    "print(lang_count)"
   ]
  },
  {
   "cell_type": "code",
   "execution_count": 22,
   "id": "israeli-captain",
   "metadata": {},
   "outputs": [
    {
     "name": "stdout",
     "output_type": "stream",
     "text": [
      "Language and number of reviews in the language: \n",
      "{'th': 39723, 'en': 268, 'vi': 1, 'ja': 1}\n"
     ]
    }
   ],
   "source": [
    "# Check out reviews language in test dataset\n",
    "test_submit_df = pd.read_csv('test.csv', sep=';')\n",
    "\n",
    "all_test_reviews = np.array(test_submit_df['review'])\n",
    "\n",
    "# save language and corresponding number of reviews in this language in a dictionary\n",
    "test_lang_count = dict()\n",
    "\n",
    "for review in all_test_reviews:\n",
    "    # get the language of the current review\n",
    "    lang_review = detect(review)\n",
    "    \n",
    "    # save to the dictionary counts\n",
    "    if lang_review in test_lang_count: test_lang_count[lang_review] += 1\n",
    "    else: test_lang_count[lang_review] = 1\n",
    "\n",
    "print('Language and number of reviews in the language: ')\n",
    "print(lang_count)"
   ]
  },
  {
   "cell_type": "code",
   "execution_count": 23,
   "id": "above-massachusetts",
   "metadata": {},
   "outputs": [],
   "source": [
    "# save Thai reviews and English reviews separately, non-Thai and non-English reviews - drop\n",
    "\n",
    "# save only reviews in Thai language\n",
    "dataset_th_df = dataset_df[dataset_df.apply(lambda row: detect(row['Text']) == 'th', axis=1)]\n",
    "\n",
    "# save only reviews in English language\n",
    "dataset_en_df = dataset_df[dataset_df.apply(lambda row: detect(row['Text']) == 'en', axis=1)]"
   ]
  },
  {
   "cell_type": "code",
   "execution_count": 24,
   "id": "sized-kruger",
   "metadata": {},
   "outputs": [],
   "source": [
    "# reset the index and avoid the old index being added as a column\n",
    "dataset_en_df = dataset_en_df.reset_index(drop=True)\n",
    "dataset_th_df = dataset_th_df.reset_index(drop=True)\n",
    "\n",
    "# save datasets to files\n",
    "dataset_en_df.to_csv('train_english_dataset.csv', index=False)\n",
    "dataset_th_df.to_csv('train_thai_dataset.csv', index=False)"
   ]
  },
  {
   "cell_type": "code",
   "execution_count": null,
   "id": "signed-liberty",
   "metadata": {},
   "outputs": [],
   "source": []
  }
 ],
 "metadata": {
  "kernelspec": {
   "display_name": "Python 3",
   "language": "python",
   "name": "python3"
  },
  "language_info": {
   "codemirror_mode": {
    "name": "ipython",
    "version": 3
   },
   "file_extension": ".py",
   "mimetype": "text/x-python",
   "name": "python",
   "nbconvert_exporter": "python",
   "pygments_lexer": "ipython3",
   "version": "3.7.4"
  }
 },
 "nbformat": 4,
 "nbformat_minor": 5
}
