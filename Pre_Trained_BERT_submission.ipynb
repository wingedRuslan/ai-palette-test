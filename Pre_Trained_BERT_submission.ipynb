{
 "cells": [
  {
   "cell_type": "code",
   "execution_count": 1,
   "id": "sonic-mobility",
   "metadata": {},
   "outputs": [],
   "source": [
    "import pandas as pd\n",
    "import numpy as np\n",
    "import re\n",
    "import pythainlp"
   ]
  },
  {
   "cell_type": "markdown",
   "id": "instrumental-cartoon",
   "metadata": {},
   "source": [
    "Take pre-trained BERT model from https://github.com/ThAIKeras/bert   \n",
    "[Optional] Fine-tune on my dataset with my sentiment classification task (Optional because pre-trained BERT already supports classification on wongnai dataset)\n",
    "\n",
    "See *Pre_Trained_BERT_gcolab* notebook for utilizing pre-trained BERT in classification task "
   ]
  },
  {
   "cell_type": "code",
   "execution_count": 2,
   "id": "buried-precipitation",
   "metadata": {},
   "outputs": [],
   "source": [
    "# read test dataset\n",
    "test_df = pd.read_csv('test.csv', sep=';')"
   ]
  },
  {
   "cell_type": "code",
   "execution_count": 3,
   "id": "accredited-neighbor",
   "metadata": {},
   "outputs": [],
   "source": [
    "# read BERT predictions for each class\n",
    "test_results_BERT = pd.read_csv('test_results_BERT_Fine-Tuned.tsv', sep='\\t', header=None)\n",
    "test_results_BERT.columns = ['pred_class1', 'pred_class2' , 'pred_class3', 'pred_class4', 'pred_class5']"
   ]
  },
  {
   "cell_type": "code",
   "execution_count": 4,
   "id": "prostate-teaching",
   "metadata": {},
   "outputs": [
    {
     "data": {
      "text/plain": [
       "(6203, 5)"
      ]
     },
     "execution_count": 4,
     "metadata": {},
     "output_type": "execute_result"
    }
   ],
   "source": [
    "test_results_BERT.shape"
   ]
  },
  {
   "cell_type": "code",
   "execution_count": 5,
   "id": "beautiful-courage",
   "metadata": {},
   "outputs": [
    {
     "data": {
      "text/html": [
       "<div>\n",
       "<style scoped>\n",
       "    .dataframe tbody tr th:only-of-type {\n",
       "        vertical-align: middle;\n",
       "    }\n",
       "\n",
       "    .dataframe tbody tr th {\n",
       "        vertical-align: top;\n",
       "    }\n",
       "\n",
       "    .dataframe thead th {\n",
       "        text-align: right;\n",
       "    }\n",
       "</style>\n",
       "<table border=\"1\" class=\"dataframe\">\n",
       "  <thead>\n",
       "    <tr style=\"text-align: right;\">\n",
       "      <th></th>\n",
       "      <th>pred_class1</th>\n",
       "      <th>pred_class2</th>\n",
       "      <th>pred_class3</th>\n",
       "      <th>pred_class4</th>\n",
       "      <th>pred_class5</th>\n",
       "    </tr>\n",
       "  </thead>\n",
       "  <tbody>\n",
       "    <tr>\n",
       "      <th>0</th>\n",
       "      <td>0.000847</td>\n",
       "      <td>0.005518</td>\n",
       "      <td>0.380075</td>\n",
       "      <td>0.583352</td>\n",
       "      <td>0.030209</td>\n",
       "    </tr>\n",
       "    <tr>\n",
       "      <th>1</th>\n",
       "      <td>0.010825</td>\n",
       "      <td>0.257719</td>\n",
       "      <td>0.700436</td>\n",
       "      <td>0.029329</td>\n",
       "      <td>0.001691</td>\n",
       "    </tr>\n",
       "    <tr>\n",
       "      <th>2</th>\n",
       "      <td>0.000349</td>\n",
       "      <td>0.005627</td>\n",
       "      <td>0.441765</td>\n",
       "      <td>0.517302</td>\n",
       "      <td>0.034956</td>\n",
       "    </tr>\n",
       "    <tr>\n",
       "      <th>3</th>\n",
       "      <td>0.001154</td>\n",
       "      <td>0.003242</td>\n",
       "      <td>0.025975</td>\n",
       "      <td>0.301703</td>\n",
       "      <td>0.667926</td>\n",
       "    </tr>\n",
       "    <tr>\n",
       "      <th>4</th>\n",
       "      <td>0.000290</td>\n",
       "      <td>0.001923</td>\n",
       "      <td>0.164080</td>\n",
       "      <td>0.718589</td>\n",
       "      <td>0.115119</td>\n",
       "    </tr>\n",
       "  </tbody>\n",
       "</table>\n",
       "</div>"
      ],
      "text/plain": [
       "   pred_class1  pred_class2  pred_class3  pred_class4  pred_class5\n",
       "0     0.000847     0.005518     0.380075     0.583352     0.030209\n",
       "1     0.010825     0.257719     0.700436     0.029329     0.001691\n",
       "2     0.000349     0.005627     0.441765     0.517302     0.034956\n",
       "3     0.001154     0.003242     0.025975     0.301703     0.667926\n",
       "4     0.000290     0.001923     0.164080     0.718589     0.115119"
      ]
     },
     "execution_count": 5,
     "metadata": {},
     "output_type": "execute_result"
    }
   ],
   "source": [
    "test_results_BERT.head()"
   ]
  },
  {
   "cell_type": "code",
   "execution_count": 7,
   "id": "alpine-guard",
   "metadata": {},
   "outputs": [],
   "source": [
    "def class_prediction(row):\n",
    "    \"\"\" Choose the most probable class among predictions for 5 classes\"\"\"\n",
    "    class_predictions = [row['pred_class1'], row['pred_class2'] , row['pred_class3'], row['pred_class4'], row['pred_class5']]\n",
    "    \n",
    "    final_prediction = class_predictions.index(max(class_predictions)) + 1\n",
    "    \n",
    "    return final_prediction"
   ]
  },
  {
   "cell_type": "code",
   "execution_count": 8,
   "id": "nuclear-anaheim",
   "metadata": {},
   "outputs": [],
   "source": [
    "test_results_BERT['Final_prediction'] = test_results_BERT.apply(class_prediction, axis=1)"
   ]
  },
  {
   "cell_type": "code",
   "execution_count": 9,
   "id": "ongoing-freight",
   "metadata": {},
   "outputs": [],
   "source": [
    "# prepare submission file\n",
    "submission_BERT_df = pd.DataFrame({'reviewID':test_df.reviewID,\n",
    "                          'rating':test_results_BERT['Final_prediction']})\n",
    "submission_BERT_df.to_csv('submission_BERT.csv',index=False)"
   ]
  },
  {
   "cell_type": "code",
   "execution_count": 10,
   "id": "becoming-columbia",
   "metadata": {},
   "outputs": [
    {
     "data": {
      "text/html": [
       "<div>\n",
       "<style scoped>\n",
       "    .dataframe tbody tr th:only-of-type {\n",
       "        vertical-align: middle;\n",
       "    }\n",
       "\n",
       "    .dataframe tbody tr th {\n",
       "        vertical-align: top;\n",
       "    }\n",
       "\n",
       "    .dataframe thead th {\n",
       "        text-align: right;\n",
       "    }\n",
       "</style>\n",
       "<table border=\"1\" class=\"dataframe\">\n",
       "  <thead>\n",
       "    <tr style=\"text-align: right;\">\n",
       "      <th></th>\n",
       "      <th>reviewID</th>\n",
       "      <th>rating</th>\n",
       "    </tr>\n",
       "  </thead>\n",
       "  <tbody>\n",
       "    <tr>\n",
       "      <th>0</th>\n",
       "      <td>1</td>\n",
       "      <td>4</td>\n",
       "    </tr>\n",
       "    <tr>\n",
       "      <th>1</th>\n",
       "      <td>2</td>\n",
       "      <td>3</td>\n",
       "    </tr>\n",
       "    <tr>\n",
       "      <th>2</th>\n",
       "      <td>3</td>\n",
       "      <td>4</td>\n",
       "    </tr>\n",
       "    <tr>\n",
       "      <th>3</th>\n",
       "      <td>4</td>\n",
       "      <td>5</td>\n",
       "    </tr>\n",
       "    <tr>\n",
       "      <th>4</th>\n",
       "      <td>5</td>\n",
       "      <td>4</td>\n",
       "    </tr>\n",
       "  </tbody>\n",
       "</table>\n",
       "</div>"
      ],
      "text/plain": [
       "   reviewID  rating\n",
       "0         1       4\n",
       "1         2       3\n",
       "2         3       4\n",
       "3         4       5\n",
       "4         5       4"
      ]
     },
     "execution_count": 10,
     "metadata": {},
     "output_type": "execute_result"
    }
   ],
   "source": [
    "submission_BERT_df.head()"
   ]
  },
  {
   "cell_type": "code",
   "execution_count": null,
   "id": "difficult-nothing",
   "metadata": {},
   "outputs": [],
   "source": []
  }
 ],
 "metadata": {
  "kernelspec": {
   "display_name": "Python 3",
   "language": "python",
   "name": "python3"
  },
  "language_info": {
   "codemirror_mode": {
    "name": "ipython",
    "version": 3
   },
   "file_extension": ".py",
   "mimetype": "text/x-python",
   "name": "python",
   "nbconvert_exporter": "python",
   "pygments_lexer": "ipython3",
   "version": "3.7.4"
  }
 },
 "nbformat": 4,
 "nbformat_minor": 5
}
